{
 "cells": [
  {
   "cell_type": "code",
   "execution_count": null,
   "id": "86964009",
   "metadata": {},
   "outputs": [],
   "source": [
    "import kagglehub\n",
    "\n",
    "import pandas as pd\n",
    "import numpy as np\n",
    "\n",
    "import warnings\n",
    "warnings.filterwarnings(\"ignore\")\n",
    "\n",
    "import seaborn as sns\n",
    "import matplotlib.pyplot as plt\n",
    "import plotly.express as px"
   ]
  },
  {
   "cell_type": "code",
   "execution_count": null,
   "id": "5efc59ee",
   "metadata": {},
   "outputs": [],
   "source": [
    "path = kagglehub.dataset_download(\"dylanjcastillo/7k-books-with-metadata\")\n",
    "\n",
    "print(\"Path to dataset files:\", path)"
   ]
  },
  {
   "cell_type": "code",
   "execution_count": null,
   "id": "bf22c4d2",
   "metadata": {},
   "outputs": [],
   "source": [
    "books = pd.read_csv(f\"{path}/books.csv\")\n",
    "books"
   ]
  },
  {
   "cell_type": "code",
   "execution_count": null,
   "id": "22616b73",
   "metadata": {},
   "outputs": [],
   "source": [
    "ax = plt.axes()\n",
    "sns.heatmap(books.isna().transpose(), cbar=False, ax=ax)\n",
    "\n",
    "plt.xlabel(\"Columns\")\n",
    "plt.ylabel(\"Missing Values\")\n",
    "\n",
    "plt.show()"
   ]
  },
  {
   "cell_type": "code",
   "execution_count": null,
   "id": "90e5b946",
   "metadata": {},
   "outputs": [],
   "source": [
    "books[\"missing_description\"] = np.where(books[\"description\"].isna(), 1, 0)\n",
    "books[\"age_of_book\"] = 2025 - books[\"published_year\"]"
   ]
  },
  {
   "cell_type": "code",
   "execution_count": null,
   "id": "80123bf8",
   "metadata": {},
   "outputs": [],
   "source": [
    "columns_of_interest = [\"num_pages\", \"age_of_book\", \"missing_description\", \"average_rating\"]\n",
    "\n",
    "correlation_matrix = books[columns_of_interest].corr(method=\"spearman\")\n",
    "\n",
    "sns.set_theme(style=\"white\")\n",
    "plt.figure(figsize=(8, 6))\n",
    "heatmap = sns.heatmap(correlation_matrix, annot=True, fmt=\".2f\", cmap=\"coolwarm\", cbar_kws={\"label\": \"Spearman correlation\"})\n",
    "heatmap.set_title(\"Correlation Heatmap\")\n",
    "plt.show()"
   ]
  },
  {
   "cell_type": "code",
   "execution_count": null,
   "id": "55b616d5",
   "metadata": {},
   "outputs": [],
   "source": [
    "books[(books[\"description\"].isna()) |\n",
    "      (books[\"average_rating\"].isna()) |\n",
    "      (books[\"num_pages\"].isna()) |\n",
    "      (books[\"published_year\"].isna())\n",
    "      ]"
   ]
  },
  {
   "cell_type": "code",
   "execution_count": null,
   "id": "025f3e27",
   "metadata": {},
   "outputs": [],
   "source": [
    "books_missing = books[~(books[\"description\"].isna()) &\n",
    "      ~(books[\"average_rating\"].isna()) &\n",
    "      ~(books[\"num_pages\"].isna()) &\n",
    "      ~(books[\"published_year\"].isna())\n",
    "      ]"
   ]
  },
  {
   "cell_type": "code",
   "execution_count": null,
   "id": "43d5ce72",
   "metadata": {},
   "outputs": [],
   "source": [
    "books_missing"
   ]
  },
  {
   "cell_type": "code",
   "execution_count": null,
   "id": "03c7423d",
   "metadata": {},
   "outputs": [],
   "source": [
    "books_missing.describe()"
   ]
  },
  {
   "cell_type": "code",
   "execution_count": null,
   "id": "cbefb6cd",
   "metadata": {},
   "outputs": [],
   "source": [
    "books_missing[\"categories\"].value_counts().reset_index().sort_values(\"count\", ascending=False)"
   ]
  },
  {
   "cell_type": "code",
   "execution_count": null,
   "id": "8e55a5f8",
   "metadata": {},
   "outputs": [],
   "source": [
    "# Compute counts and reset index\n",
    "categories_df = books_missing[\"categories\"].value_counts().reset_index()\n",
    "categories_df.columns = [\"category\", \"count\"]\n",
    "\n",
    "# Sort the data by count in descending order\n",
    "sorted_categories = categories_df.sort_values(\"count\", ascending=False)\n",
    "\n",
    "# Create an interactive bar chart with a horizontal range slider for scrolling\n",
    "fig = px.bar(\n",
    "    sorted_categories,\n",
    "    x=\"category\",\n",
    "    y=\"count\",\n",
    "    template=\"plotly_white\",\n",
    "    title=\"Count of Books per Category\"\n",
    ")\n",
    "\n",
    "fig.update_layout(\n",
    "    xaxis_title=\"Category\",\n",
    "    yaxis_title=\"Count\",\n",
    "    xaxis_tickangle=-45,\n",
    "    xaxis=dict(\n",
    "        rangeslider=dict(visible=True),\n",
    "        type=\"category\"\n",
    "    )\n",
    ")\n",
    "\n",
    "fig.show()"
   ]
  },
  {
   "cell_type": "code",
   "execution_count": null,
   "id": "433dfe4c",
   "metadata": {},
   "outputs": [],
   "source": [
    "books_missing[\"words_in_description\"] = books_missing[\"description\"].str.split().str.len()"
   ]
  },
  {
   "cell_type": "code",
   "execution_count": null,
   "id": "8873eb02",
   "metadata": {},
   "outputs": [],
   "source": [
    "books_missing"
   ]
  },
  {
   "cell_type": "code",
   "execution_count": null,
   "id": "940d4881",
   "metadata": {},
   "outputs": [],
   "source": [
    "books_missing.loc[books_missing[\"words_in_description\"].between(1, 4), \"description\"].reset_index()"
   ]
  },
  {
   "cell_type": "code",
   "execution_count": null,
   "id": "5b9deb02",
   "metadata": {},
   "outputs": [],
   "source": [
    "books_missing.loc[books_missing[\"words_in_description\"].between(5, 14), \"description\"].reset_index()"
   ]
  },
  {
   "cell_type": "code",
   "execution_count": null,
   "id": "36bf147f",
   "metadata": {},
   "outputs": [],
   "source": [
    "books_missing.loc[books_missing[\"words_in_description\"].between(15, 24), \"description\"].reset_index()"
   ]
  },
  {
   "cell_type": "code",
   "execution_count": null,
   "id": "fe0bc6c9",
   "metadata": {},
   "outputs": [],
   "source": [
    "books_missing.loc[books_missing[\"words_in_description\"].between(25, 34), \"description\"].reset_index()"
   ]
  },
  {
   "cell_type": "code",
   "execution_count": null,
   "id": "59423b6f",
   "metadata": {},
   "outputs": [],
   "source": [
    "book_missing_25_words = books_missing[books_missing[\"words_in_description\"] >= 25]"
   ]
  },
  {
   "cell_type": "code",
   "execution_count": null,
   "id": "5788d21a",
   "metadata": {},
   "outputs": [],
   "source": [
    "book_missing_25_words.reset_index()"
   ]
  },
  {
   "cell_type": "code",
   "execution_count": null,
   "id": "b6643c7d",
   "metadata": {},
   "outputs": [],
   "source": [
    "book_missing_25_words[\"title_and_subtitle\"] = (\n",
    "    np.where(book_missing_25_words[\"subtitle\"].isna(), book_missing_25_words[\"title\"],\n",
    "             book_missing_25_words[[\"title\", \"subtitle\"]].astype(str).agg(\": \".join, axis=1))\n",
    ")"
   ]
  },
  {
   "cell_type": "code",
   "execution_count": null,
   "id": "6cdb5953",
   "metadata": {},
   "outputs": [],
   "source": [
    "book_missing_25_words"
   ]
  },
  {
   "cell_type": "code",
   "execution_count": null,
   "id": "8670e010",
   "metadata": {},
   "outputs": [],
   "source": [
    "book_missing_25_words[\"tagged_description\"] = book_missing_25_words[[\"isbn13\", \"description\"]].astype(str).agg(\": \".join, axis=1)"
   ]
  },
  {
   "cell_type": "code",
   "execution_count": null,
   "id": "3601fc44",
   "metadata": {},
   "outputs": [],
   "source": [
    "book_missing_25_words"
   ]
  },
  {
   "cell_type": "code",
   "execution_count": null,
   "id": "b49d1f70",
   "metadata": {},
   "outputs": [],
   "source": [
    "book_missing_25_words.drop([\"subtitle\", \"missing_description\", \"age_of_book\", \"words_in_description\"], axis=1).to_csv(\"book_cleaned.csv\", index=False)"
   ]
  }
 ],
 "metadata": {
  "kernelspec": {
   "display_name": "Python 3",
   "language": "python",
   "name": "python3"
  },
  "language_info": {
   "codemirror_mode": {
    "name": "ipython",
    "version": 3
   },
   "file_extension": ".py",
   "mimetype": "text/x-python",
   "name": "python",
   "nbconvert_exporter": "python",
   "pygments_lexer": "ipython3",
   "version": "3.11.11"
  }
 },
 "nbformat": 4,
 "nbformat_minor": 5
}
